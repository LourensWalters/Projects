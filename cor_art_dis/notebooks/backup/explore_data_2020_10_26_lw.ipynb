{
 "cells": [
  {
   "cell_type": "markdown",
   "metadata": {
    "collapsed": true,
    "pycharm": {
     "name": "#%% md\n"
    }
   },
   "source": [
    "# Coronory Artery Disease Project\n",
    "## Exploratory analysis\n",
    "### Prediction of heart disease given 14 variables"
   ]
  },
  {
   "cell_type": "markdown",
   "metadata": {},
   "source": [
    "For this analysis we use the Cleveland \"Coronary Artery Disease\" dataset found on the UCI Machine Learning Repository\n",
    "at the following location:\n",
    "\n",
    "<a href=https://archive.ics.uci.edu/ml/datasets/Heart+Disease>Heart Disease Dataset</a>\n",
    "\n",
    "The objective of the analysis is to use statistical learning to identify factors associated with Coronary Artery\n",
    "Disease as indicated by a coronary angiography interpreted by a Cardiologist.\n",
    "\n",
    "According to the paper by (Detrano et al., 1989) the data represents data collected for 303 patients referred for\n",
    "coronary angiography at the Cleveland Clinic between May 1981 and September 1984. The 13 independent/ features\n",
    "variables can be divided into 3 groups as follows:\n",
    "\n",
    "Routine evaluation (based on historical data):\n",
    "* ECG at rest\n",
    "* Serum Cholesterol\n",
    "* Fasting blood sugar\n",
    "\n",
    "Non-invasive test data (informed consent obtained for data as part of research protocol):\n",
    "* Exercise ECG\n",
    "    * ST-segment peak slope (upsloping, flat or downsloping)\n",
    "    * ST-segment depression\n",
    "* Excercise Thallium scintigraphy (fixed, reversible or none)\n",
    "* Cardiac fluoroscopy (number of vessels appeared to contain calcium)\n",
    "\n",
    "Other demographic and clinical variables (based on routine data):\n",
    "* Age\n",
    "* Sex\n",
    "* Chest pain type\n",
    "* Systolic blood pressure\n",
    "* ST-T-wave abnormality (T-wave abnormality)\n",
    "* Probably or definite ventricular hypertrophy (Este's criteria)\n",
    "\n",
    "The dependent/ response variable was the angiographic test result indicating a >50% diameter narrowing.\n",
    "\n",
    "Detrano et al created 352 logistic regression models based on different combinations of the previously discussed\n",
    "13 variables. Depending on information available in the test dataset one of these models was applied during model\n",
    "validation.\n",
    "\n",
    "Unfortunately the the paper by (Detrano et al., 1989) does not publish extensive model accuracy results such as:\n",
    "overall accuracy, C-Statistic, precision (positive predictive value), recall (sensitivity) or specificity. The\n",
    "model was however validated on various external datasets which is very important. The positive predictive value\n",
    "(precision) is reported for a range of probability cut-off points for the various test sets. The various data sets\n",
    "have widely varying prevalence (38% - 81%), and hence te positive predictive value likewise varies widely between the\n",
    "reported tests.\n",
    "\n",
    "From these results one can see that the model was capable of a Precision of approximately 75% for datasets closely\n",
    "matching the Cleveland dataset in terms of disease prevalence within the test set.\n",
    "\n",
    "We are going to replicate the analysis by performing a logistic regression and will perform a validation study to\n",
    "confirm results obtained by (Detrano et al., 1989) in terms of model accuracy. Furthermore we will do an analysis of\n",
    "significance of the various logistic regression features as means of classifying feature importance.\n",
    "\n",
    "Subsequent to this analysis we will use an ensemble model (Random Forest) to create feature importance classifications\n",
    "to validate the regression findings. We will also apply our learnings to a Neural Network, to assess performance on\n",
    "the smaller dataset i.e. after features selection has been applied.\n",
    "\n",
    "We aim to achieve this by following the Machine Learning pipeline approach of deploying a variety of ML techniques to\n",
    "build a predictive model and analyse its results. In the process we hope to gain valuable insights. The various steps\n",
    "in the process are as follows (not necessarily in this order):\n",
    "\n",
    "- Load data\n",
    "- Prepare data\n",
    "    - Clean data\n",
    "        - Missing values\n",
    "        - Outliers\n",
    "        - Erroneous values\n",
    "    - Explore data\n",
    "        - Exploratory descriptive analysis (EDA)\n",
    "        - Correlation analysis\n",
    "        - Variable cluster analysis\n",
    "    - Transform Data\n",
    "        - Engineer features\n",
    "        - Encode data\n",
    "        - Scale & normalise data\n",
    "        - Impute data\n",
    "        - Feature selection/ importance analysis\n",
    "- Build model\n",
    "    - Model selection\n",
    "    - Data sampling (validation strategy, imbalanced classification)\n",
    "    - Hyperparameter optimisation\n",
    "- Validate model\n",
    "    - Accuracy testing\n",
    "- Analysis of results\n",
    "    - Response curves\n",
    "    - Accuracy analysis\n",
    "    - Commentary\n",
    "\n",
    "Let us start the analysis!"
   ]
  },
  {
   "cell_type": "code",
   "execution_count": 6,
   "metadata": {
    "pycharm": {
     "name": "#%%\n"
    }
   },
   "outputs": [
    {
     "name": "stdout",
     "output_type": "stream",
     "text": [
      "The autoreload extension is already loaded. To reload it, use:\n",
      "  %reload_ext autoreload\n"
     ]
    },
    {
     "ename": "ImportError",
     "evalue": "cannot import name 'plot_confusion_matrix' from 'visualization' (c:\\users\\pc-1\\documents\\github\\projects\\cor_art_dis\\src\\visualization\\__init__.py)",
     "output_type": "error",
     "traceback": [
      "\u001B[1;31m---------------------------------------------------------------------------\u001B[0m",
      "\u001B[1;31mImportError\u001B[0m                               Traceback (most recent call last)",
      "\u001B[1;32m<ipython-input-6-7ae322109000>\u001B[0m in \u001B[0;36m<module>\u001B[1;34m\u001B[0m\n\u001B[0;32m     22\u001B[0m \u001B[1;32mfrom\u001B[0m \u001B[0msklearn\u001B[0m\u001B[1;33m.\u001B[0m\u001B[0mmetrics\u001B[0m \u001B[1;32mimport\u001B[0m \u001B[0mroc_curve\u001B[0m\u001B[1;33m,\u001B[0m \u001B[0mauc\u001B[0m\u001B[1;33m\u001B[0m\u001B[1;33m\u001B[0m\u001B[0m\n\u001B[0;32m     23\u001B[0m \u001B[1;32mfrom\u001B[0m \u001B[0msklearn\u001B[0m\u001B[1;33m.\u001B[0m\u001B[0mlinear_model\u001B[0m \u001B[1;32mimport\u001B[0m \u001B[0mLogisticRegression\u001B[0m\u001B[1;33m\u001B[0m\u001B[1;33m\u001B[0m\u001B[0m\n\u001B[1;32m---> 24\u001B[1;33m \u001B[1;32mfrom\u001B[0m \u001B[0mvisualization\u001B[0m \u001B[1;32mimport\u001B[0m \u001B[0mplot_confusion_matrix\u001B[0m\u001B[1;33m,\u001B[0m \u001B[0mplot_roc_curve\u001B[0m\u001B[1;33m,\u001B[0m \u001B[0mplot_feature_importance\u001B[0m\u001B[1;33m,\u001B[0m\u001B[0;31m \u001B[0m\u001B[0;31m\\\u001B[0m\u001B[1;33m\u001B[0m\u001B[1;33m\u001B[0m\u001B[0m\n\u001B[0m\u001B[0;32m     25\u001B[0m     \u001B[0mplot_feature_importance_log\u001B[0m\u001B[1;33m,\u001B[0m \u001B[0mplot_feature_importance_dec\u001B[0m\u001B[1;33m,\u001B[0m \u001B[0mplotGrid\u001B[0m\u001B[1;33m,\u001B[0m \u001B[0mplotAge\u001B[0m\u001B[1;33m,\u001B[0m \u001B[0mplotContinuous\u001B[0m\u001B[1;33m,\u001B[0m \u001B[0mplotCategorical\u001B[0m\u001B[1;33m\u001B[0m\u001B[1;33m\u001B[0m\u001B[0m\n\u001B[0;32m     26\u001B[0m \u001B[1;32mfrom\u001B[0m \u001B[0msklearn\u001B[0m\u001B[1;33m.\u001B[0m\u001B[0mfeature_selection\u001B[0m \u001B[1;32mimport\u001B[0m \u001B[0mRFE\u001B[0m\u001B[1;33m\u001B[0m\u001B[1;33m\u001B[0m\u001B[0m\n",
      "\u001B[1;31mImportError\u001B[0m: cannot import name 'plot_confusion_matrix' from 'visualization' (c:\\users\\pc-1\\documents\\github\\projects\\cor_art_dis\\src\\visualization\\__init__.py)"
     ]
    }
   ],
   "source": [
    "%load_ext autoreload\n",
    "%autoreload 2\n",
    "\n",
    "# Import libraries\n",
    "import pandas as pd\n",
    "import re\n",
    "import matplotlib.pyplot as plt\n",
    "import matplotlib\n",
    "import numpy as np\n",
    "from sklearn.tree import DecisionTreeClassifier, plot_tree\n",
    "from sklearn.ensemble import RandomForestClassifier\n",
    "from sklearn.preprocessing import OneHotEncoder\n",
    "from sklearn.preprocessing import StandardScaler, MinMaxScaler\n",
    "from sklearn.neural_network import MLPClassifier\n",
    "from sklearn.model_selection import train_test_split, cross_val_score\n",
    "from sklearn.metrics import accuracy_score, precision_score, recall_score, confusion_matrix\n",
    "import seaborn as sns\n",
    "from IPython.core.interactiveshell import InteractiveShell\n",
    "InteractiveShell.ast_node_interactivity = \"all\"\n",
    "from sklearn.feature_selection import SelectKBest\n",
    "from sklearn.feature_selection import f_classif, chi2\n",
    "from sklearn.metrics import roc_curve, auc\n",
    "from sklearn.linear_model import LogisticRegression\n",
    "from visualization import plot_confusion_matrix, plot_roc_curve, plot_feature_importance, \\\n",
    "    plot_feature_importance_log, plot_feature_importance_dec, plotGrid, plotAge, plotContinuous, plotCategorical\n",
    "from sklearn.feature_selection import RFE\n",
    "import statsmodels.api as sm\n",
    "from sklearn.tree import export_graphviz\n",
    "from IPython.display import Image\n",
    "from subprocess import call\n",
    "import warnings\n",
    "\n",
    "warnings.filterwarnings(\"ignore\")"
   ]
  },
  {
   "cell_type": "markdown",
   "metadata": {},
   "source": [
    "<div class=\"alert alert-block alert-info\">\n",
    "<b>Load data</b>\n",
    "</div>"
   ]
  },
  {
   "cell_type": "code",
   "execution_count": null,
   "metadata": {
    "pycharm": {
     "name": "#%%\n"
    }
   },
   "outputs": [],
   "source": [
    "# Import data\n",
    "df = pd.read_csv('../data/raw/processed.cleveland.data', header = None, names = ['age', 'sex', 'chest_pain_type', 'rest_blood_press', 'cholesterol',\n",
    "                'fasting_blood_sugar', 'rest_ecg', 'max_heart_rate', 'exer_ind_angina', 'st_depression', 'st_slope', 'num_major_vessels', 'thallium_scint', 'ca_disease'], index_col=None,\n",
    "                 usecols = [0, 1, 2, 3, 4, 5, 6, 7, 8, 9, 10, 11, 12, 13], sep=',', skipinitialspace=True)\n",
    "df.head(20)\n",
    "print(df.shape)"
   ]
  },
  {
   "attachments": {
    "Data%20dictionary.png": {
     "image/png": "[encoded data removed]"
    }
   },
   "cell_type": "markdown",
   "metadata": {
    "pycharm": {
     "name": "#%% md\n"
    }
   },
   "source": [
    "The dataset read from csv file has 303 rows and 14 columns.\n",
    "The data dictionary specified that 303 rows and 75 columns existed.\n",
    "We therefore have the same number of rows as the data dictionary, but 61 fewer columns...\n",
    "\n",
    "We were lucky that the data was already pre-processed, and this can be observed from the subset of data displayed\n",
    "appearing very clean. Hopefully not much further cleaning would be required.\n",
    "\n",
    "We created a data dictionary for the data is as follows:\n",
    "\n",
    "![Data%20dictionary.png](attachment:Data%20dictionary.png)\n",
    "\n",
    "Let us explore the data!"
   ]
  },
  {
   "cell_type": "markdown",
   "metadata": {},
   "source": [
    "<div class=\"alert alert-block alert-info\">\n",
    "<b>Clean data</b>\n",
    "</div>"
   ]
  },
  {
   "cell_type": "code",
   "execution_count": null,
   "metadata": {
    "pycharm": {
     "name": "#%%\n"
    }
   },
   "outputs": [],
   "source": [
    "# Type of data\n",
    "print(df.info())"
   ]
  },
  {
   "cell_type": "markdown",
   "metadata": {},
   "source": [
    "From the output we observe that we have twelve numeric columns and two \"object\" columns. The data dictionary\n",
    "however specifies that all fields are numeric. This means that Python could not convert two numeric variables\n",
    "(num_major_vessels and thallium_scint) to numeric columns due to their contents being non-numeric. Let us investigate."
   ]
  },
  {
   "cell_type": "code",
   "execution_count": null,
   "metadata": {
    "pycharm": {
     "name": "#%%\n"
    }
   },
   "outputs": [],
   "source": [
    "# Find out what types of data is stored in object column. Use simple regex. Leading number omitted not catered for.\n",
    "# Future improvement.\n",
    "r = re.compile(r'\\d+[.,]\\d*')\n",
    "df.num_major_vessels.apply(lambda x: bool(r.match(x))).value_counts()\n",
    "df.thallium_scint.apply(lambda x: bool(r.match(x))).value_counts()\n",
    "\n",
    "df.loc[df.num_major_vessels.apply(lambda x: bool(r.match(x))) == False]\n",
    "df.loc[df.thallium_scint.apply(lambda x: bool(r.match(x))) == False]"
   ]
  },
  {
   "cell_type": "markdown",
   "metadata": {
    "pycharm": {
     "name": "#%% md\n"
    }
   },
   "source": [
    "We can see that there are 4 non-numeric fields in num_major_vessels and 2 in thallium_scint. These values are all '?'.\n",
    "It is a reasonable assumption that these are missing values from data entry due to the placeholder. We will therefore\n",
    "clean the data by replacing these values with NaN and converting all character values to decimal."
   ]
  },
  {
   "cell_type": "code",
   "execution_count": null,
   "metadata": {
    "pycharm": {
     "name": "#%%\n"
    }
   },
   "outputs": [],
   "source": [
    "# Replace all non numeric data with NaN, convert strings to numbers.\n",
    "df_clean = df.apply(pd.to_numeric, errors='coerce')"
   ]
  },
  {
   "cell_type": "markdown",
   "metadata": {
    "pycharm": {
     "name": "#%% md\n"
    }
   },
   "source": [
    "Let us see if that worked! We should now have only decimal and null values."
   ]
  },
  {
   "cell_type": "code",
   "execution_count": null,
   "metadata": {
    "pycharm": {
     "name": "#%%\n"
    }
   },
   "outputs": [],
   "source": [
    "# Number of null values\n",
    "print(df_clean.isnull().sum())\n",
    "\n",
    "# Actual null values\n",
    "df_clean[df_clean.isnull().any(axis=1)]\n"
   ]
  },
  {
   "cell_type": "markdown",
   "metadata": {},
   "source": [
    "Looks great we have 6 null values, 4 in num_major_vessels and 2 in thallium_scint as expected. We can also observe\n",
    "that none of the other fields contain any null values. Seeing as there are only a handful of these values and none\n",
    "in the response variable, it is not necessary to remove these records from the dataset at this stage.\n",
    "\n",
    "We now have a dataset with 303 records and 14 numeric fields, as per the data dictionary, there are still 6 missing\n",
    "values in the 'num_major_vessels' and 'thallium_scint' fields though. Due to the low number of missing values and even\n",
    "distribution of values in these fields (see explore analysis below) we will now substitute these with median values."
   ]
  },
  {
   "cell_type": "code",
   "execution_count": null,
   "metadata": {
    "pycharm": {
     "name": "#%%\n"
    }
   },
   "outputs": [],
   "source": [
    "df_fin = df_clean.copy()\n",
    "median = df_fin['num_major_vessels'].median()\n",
    "df_fin['num_major_vessels'].fillna(median, inplace=True)\n",
    "print(\"Number of null values in num_major_vessels column: {}\".format(df_fin['num_major_vessels'].isnull().sum()))\n",
    "\n",
    "median = df_fin['thallium_scint'].median()\n",
    "df_fin['thallium_scint'].fillna(median, inplace=True)\n",
    "print(\"Number of null values in thallium_scint column: {}\".format(df_fin['thallium_scint'].isnull().sum()))\n",
    "print(\"Dataframe dimension: {}\".format(df_fin.shape))"
   ]
  },
  {
   "cell_type": "markdown",
   "metadata": {},
   "source": [
    "Now our set is finally ready for further analysis. We will now look at the distribution of variables and any possible\n",
    "outliers or heavy tailed distributions."
   ]
  },
  {
   "cell_type": "markdown",
   "metadata": {},
   "source": [
    "<div class=\"alert alert-block alert-info\">\n",
    "<b>Explore data</b>\n",
    "</div>"
   ]
  },
  {
   "cell_type": "markdown",
   "metadata": {},
   "source": [
    "We start by looking at the number of unique records per variable."
   ]
  },
  {
   "cell_type": "code",
   "execution_count": null,
   "metadata": {
    "pycharm": {
     "name": "#%%\n"
    }
   },
   "outputs": [],
   "source": [
    "print(df_fin.nunique())"
   ]
  },
  {
   "cell_type": "markdown",
   "metadata": {},
   "source": [
    "There are no columns with only one value. We therefore retain all columns for ML purposes as there is enough\n",
    "variability to warrant using the data. Interesting to observe that there is also a fair amount of similarity in\n",
    "the cholesterol measurements which is surprising. There are many variables with fewer than 10 levels which\n",
    "could be considered as categorical. Based on our initial assessment of the data we will work with levels of measurement\n",
    "for the data as follows:\n",
    "\n",
    "- age (continuous)\n",
    "- sex (binary)\n",
    "- chest_pain_type (ordinal)\n",
    "- rest_blood_press (continuous)\n",
    "- cholesterol (continuous)\n",
    "- fasting_blood_sugar (binary)\n",
    "- rest_ecg (ordinal)\n",
    "- max_heart_rate (continuous)\n",
    "- exer_ind_angina (binary)\n",
    "- st_depression (continuous)\n",
    "- st_slope (ordinal)\n",
    "- num_major_vessels (ordinal)\n",
    "- thallium_scint (ordinal - needs reordering)\n",
    "- ca_disease (binary - we will need to transform as there are actually 5 levels in the data)\n",
    "\n",
    "At this point it seems as if the only nominal data is binary, which means we might not need any One Hot Encoding\n",
    "initially. We will leave the ordinal data as is for the initial analysis.\n",
    "Next we look at the distribution of the data."
   ]
  },
  {
   "cell_type": "markdown",
   "metadata": {},
   "source": [
    "We now extract data according levels of measurement first to ease analysis. We also rename the variables to enable\n",
    "ease of interpretion."
   ]
  },
  {
   "cell_type": "code",
   "execution_count": null,
   "metadata": {
    "pycharm": {
     "name": "#%%\n"
    }
   },
   "outputs": [],
   "source": [
    "# Extract categorical variables for analysis.\n",
    "df_fin_cat = df_fin.copy()\n",
    "names_cat = ('sex', 'chest_pain_type', 'fasting_blood_sugar', 'rest_ecg', 'exer_ind_angina', 'st_slope',\n",
    "             'num_major_vessels', 'thallium_scint', 'ca_disease')\n",
    "df_fin_cat = df_fin_cat.loc[:, names_cat]\n",
    "\n",
    "# Extract continuous variables for analysis.\n",
    "#df_fin.reset_index(drop=True, inplace=True)\n",
    "df_fin_con = df_fin.copy()\n",
    "names_con = ('age', 'rest_blood_press', 'cholesterol', 'max_heart_rate', 'st_depression')\n",
    "df_fin_con = df_fin_con.loc[:, names_con]\n",
    "\n",
    "# Plotting label dictionary\n",
    "plot_cat = [('sex', ['female', 'male']),\n",
    "              ('chest_pain_type', ['typical angina', 'atypical angina', 'non-anginal pain', 'asymptomatic']),\n",
    "              ('fasting_blood_sugar', ['fbs > 120mg', 'fbs < 120mg']),\n",
    "              ('rest_ecg', ['normal', 'ST-T wave', 'left ventricular']),\n",
    "              ('exer_ind_angina', ['yes', 'no']),\n",
    "              ('st_slope', ['upsloping', 'flat', 'downsloping']),\n",
    "              ('num_major_vessels', ['0', '1', '2', '3']),\n",
    "              ('thallium_scint', ['normal', 'fixed defect', 'reversible defect']),\n",
    "              ('ca_disease', ['No CA disease', 'CA disease'])]\n",
    "plot_con = [('age', 'age in years'),\n",
    "            ('rest_blood_press', 'blood pressure in mm Hg'),\n",
    "              ('cholesterol', 'serum cholestoral in mg/d'),\n",
    "              ('max_heart_rate', 'maximum heart rate achieved'),\n",
    "              ('st_depression', 'ST depression by exercise relative to rest'),\n",
    "              ('ca_disease', 'Coronary Artery disease')]\n",
    "\n",
    "# Extract numeric variables for analysis.\n",
    "df_fin.reset_index(drop=True, inplace=True)\n",
    "df_fin_num = df_fin.copy()\n",
    "names_num = ('age', 'sex', 'chest_pain_type', 'rest_blood_press', 'cholesterol', 'fasting_blood_sugar', 'rest_ecg',\n",
    "             'max_heart_rate', 'exer_ind_angina', 'st_depression', 'st_slope', 'num_major_vessels', 'thallium_scint',\n",
    "             'ca_disease')\n",
    "df_fin_num = df_fin_num.loc[:, names_num]"
   ]
  },
  {
   "cell_type": "markdown",
   "metadata": {},
   "source": [
    "Now let us consider the response variable."
   ]
  },
  {
   "cell_type": "code",
   "execution_count": null,
   "metadata": {
    "pycharm": {
     "name": "#%%\n"
    }
   },
   "outputs": [],
   "source": [
    "#outcome_counts = df_fin_cat.groupby('ca_disease').size()\n",
    "outcome_counts = df_fin_cat['ca_disease'].value_counts()\n",
    "print(outcome_counts)\n",
    "\n",
    "# Plot outcome counts.\n",
    "ax = sns.barplot(x=outcome_counts.index, y=outcome_counts.values, alpha=0.9)\n",
    "ax.xaxis.label.set_size(20)\n",
    "ax.yaxis.label.set_size(20)\n",
    "#ax.title.set_size(45)\n",
    "ax.tick_params('y', labelsize = 20);\n",
    "ax.tick_params('x', labelsize = 20);\n",
    "plt.title('Frequency Distribution of Outcomes', fontsize=20)\n",
    "plt.ylabel('Number of Occurrences')\n",
    "plt.xlabel('Outcome')\n",
    "plt.show();"
   ]
  },
  {
   "cell_type": "markdown",
   "metadata": {},
   "source": [
    "All looks good here. No obvious issues with the data. The spread of the data is good for classification, as there are\n",
    "a large number of positive cases. If one combines classes 1, 2, 3 and 4 as suggested there will be a fairly even split\n",
    "between positive and negative outcomes.\n",
    "Let us look at that."
   ]
  },
  {
   "cell_type": "code",
   "execution_count": null,
   "metadata": {
    "pycharm": {
     "name": "#%%\n"
    }
   },
   "outputs": [],
   "source": [
    "# Transform y variable\n",
    "df_fin_cat['num_bin'] = df_fin['ca_disease'].apply(lambda x: 1 if x > 0 else 0)\n",
    "\n",
    "outcome_counts_bin = df_fin_cat['num_bin'].value_counts()\n",
    "print(outcome_counts_bin)\n",
    "ax = sns.barplot(x=outcome_counts_bin.index, y=outcome_counts_bin.values)\n",
    "ax.xaxis.label.set_size(20)\n",
    "ax.yaxis.label.set_size(20)\n",
    "#ax.title.set_size(45)\n",
    "ax.tick_params('y', labelsize = 20);\n",
    "ax.tick_params('x', labelsize = 20);\n",
    "plt.title('Frequency Distribution of Outcomes', fontsize = 20)\n",
    "plt.ylabel('Number of Occurrences')\n",
    "plt.xlabel('Outcome')\n",
    "plt.show();"
   ]
  },
  {
   "cell_type": "markdown",
   "metadata": {},
   "source": [
    "As expected, we don't need to be concerned about imbalanced classes for this analysis.\n",
    "\n",
    "Let us now consider the categorical variables."
   ]
  },
  {
   "cell_type": "code",
   "execution_count": null,
   "metadata": {
    "pycharm": {
     "name": "#%%\n"
    }
   },
   "outputs": [],
   "source": [
    "# Class level counts for categorical variables.\n",
    "for variable in names_cat:\n",
    "    print(df_fin_cat[variable].value_counts())"
   ]
  },
  {
   "cell_type": "code",
   "execution_count": null,
   "metadata": {
    "pycharm": {
     "name": "#%%\n"
    }
   },
   "outputs": [],
   "source": [
    "# Bar chart plot of categorical variables.\n",
    "fig, ax = plt.subplots(3, 3, figsize=(25, 20));\n",
    "for variable, subplot in zip(names_cat, ax.flatten()):\n",
    "    subplot.xaxis.label.set_size(34)\n",
    "    subplot.yaxis.label.set_size(34)\n",
    "    subplot.tick_params('y', labelsize = 30);\n",
    "    subplot.tick_params('x', labelsize = 30);\n",
    "    cp = sns.countplot(x=df_fin_cat[variable], ax=subplot);\n",
    "plt.tight_layout()"
   ]
  },
  {
   "cell_type": "markdown",
   "metadata": {},
   "source": [
    "The data looks fine from a modelling perspective, apart from the fact that the 'thallium_scint' variable needs to be recoded.\n",
    "The values are not coded in the correct order.\n",
    "\n",
    "Next, let us consider the continuous variables."
   ]
  },
  {
   "cell_type": "code",
   "execution_count": null,
   "metadata": {
    "pycharm": {
     "name": "#%%\n"
    }
   },
   "outputs": [],
   "source": [
    "# 5 number summary.\n",
    "df_fin_con.describe()"
   ]
  },
  {
   "cell_type": "code",
   "execution_count": null,
   "metadata": {
    "pycharm": {
     "name": "#%%\n"
    }
   },
   "outputs": [],
   "source": [
    "# Continuous density plot\n",
    "df_fin_num['ca_disease'] = df_fin_num['ca_disease'].apply(lambda x: 1 if x > 0 else 0)\n",
    "\n",
    "fig_continuous, axes = plt.subplots(nrows=len(plot_con)-1, ncols=2, figsize=(15, 22))\n",
    "_ = plotGrid(isCategorical=False, categorical = plot_cat, continuous = plot_con, df=df_fin_num, axes=axes);"
   ]
  },
  {
   "cell_type": "code",
   "execution_count": null,
   "metadata": {
    "pycharm": {
     "name": "#%%\n"
    }
   },
   "outputs": [],
   "source": [
    "for variable in names_con:\n",
    "    skew = df_fin_con[variable].skew()\n",
    "    print(\"Skewness value for {}: {}\".format(variable, skew))\n"
   ]
  },
  {
   "cell_type": "code",
   "execution_count": null,
   "metadata": {
    "pycharm": {
     "name": "#%%\n"
    }
   },
   "outputs": [],
   "source": [
    "# Boxplot of continuous variables\n",
    "medianprops = {'color': 'magenta', 'linewidth': 2}\n",
    "boxprops = {'color': 'black', 'linestyle': '-', 'linewidth': 4}\n",
    "whiskerprops = {'color': 'black', 'linestyle': '-', 'linewidth': 4}\n",
    "capprops = {'color': 'black', 'linestyle': '-', 'linewidth': 4}\n",
    "flierprops = {'color': 'black', 'marker': 'x', 'markersize': 25}\n",
    "\n",
    "_ = df_fin_con.plot(kind='box', subplots=True, figsize=(35, 25), layout=(2,3), fontsize = 50, medianprops=medianprops,\n",
    "                    boxprops=boxprops, whiskerprops=whiskerprops, capprops=capprops, flierprops=flierprops);\n",
    "\n",
    "_ = plt.tight_layout();\n",
    "_ = plt.show();"
   ]
  },
  {
   "cell_type": "markdown",
   "metadata": {},
   "source": [
    "No surprises here with regards to the continuous feature variables. We are dealing with an older population here with\n",
    "average age of 54 years old. There are a few outliers for high resting blood pressure with the distribution showing\n",
    "a slight skew to the right. Likewise for cholesterol and st_depression, with these two showing even higher skewness. Conversely\n",
    "max_heart_rate has outliers to left and slight skewness to left too. This makes sense, as higher values for the prior would\n",
    "indicate poorer health, whereas lower values for max_heart_rate would indicate poorer health.\n",
    "\n",
    "The distributions of the feature variables have varying scales, so standardisation would be required for ML purposes.\n",
    "Seeing as we will not be running a regression, normalisation would not be required. Investigation into outliers is\n",
    "recommended as it might reveal interesting facts and would improve the model performance if outliers were addressed.\n"
   ]
  },
  {
   "cell_type": "markdown",
   "metadata": {
    "pycharm": {
     "name": "#%% md\n"
    }
   },
   "source": [
    "<div class=\"alert alert-block alert-info\">\n",
    "<b>Build Naive Model - Baseline</b>\n",
    "</div>"
   ]
  },
  {
   "cell_type": "markdown",
   "metadata": {},
   "source": [
    "We start by splitting the response and the features."
   ]
  },
  {
   "cell_type": "code",
   "execution_count": null,
   "metadata": {
    "pycharm": {
     "name": "#%%\n"
    }
   },
   "outputs": [],
   "source": [
    "# Transform y variable\n",
    "df_fin['ca_disease'] = df_fin['ca_disease'].apply(lambda x: 1 if x > 0 else 0)\n",
    "\n",
    "# Copy original dataset\n",
    "df_fin_nn = df_fin.copy()\n",
    "\n",
    "# Group response values to form binary response\n",
    "y = df_fin_nn.loc[:, 'ca_disease']\n",
    "\n",
    "# Split data into features (X) and response (y)\n",
    "X = df_fin_nn.loc[:, ('age', 'sex', 'chest_pain_type', 'rest_blood_press', 'cholesterol', 'fasting_blood_sugar', 'rest_ecg', 'max_heart_rate', 'exer_ind_angina', 'st_depression', 'st_slope',\n",
    "                   'num_major_vessels', 'thallium_scint')]\n",
    "\n",
    "X.head()\n",
    "\n",
    "# Put the response y into an array\n",
    "y = np.ravel(y)"
   ]
  },
  {
   "cell_type": "markdown",
   "metadata": {
    "pycharm": {
     "name": "#%% md\n"
    }
   },
   "source": [
    "Split the data into training and test sets"
   ]
  },
  {
   "cell_type": "code",
   "execution_count": null,
   "metadata": {
    "pycharm": {
     "name": "#%%\n"
    }
   },
   "outputs": [],
   "source": [
    "X_train, X_test, y_train, y_test = train_test_split(X, y, random_state=0)"
   ]
  },
  {
   "cell_type": "code",
   "execution_count": null,
   "metadata": {
    "pycharm": {
     "name": "#%%\n"
    }
   },
   "outputs": [],
   "source": [
    "print('Percentage holdout data: {}%'.format(round(100*(len(X_test)/len(X)),0)))"
   ]
  },
  {
   "cell_type": "markdown",
   "metadata": {},
   "source": [
    "We now build and test a naive logistic regression model - without any transformations or optimisations."
   ]
  },
  {
   "cell_type": "code",
   "execution_count": null,
   "metadata": {
    "pycharm": {
     "name": "#%%\n"
    }
   },
   "outputs": [],
   "source": [
    "# Initial model\n",
    "logreg = LogisticRegression(max_iter=2000000, fit_intercept = False)\n",
    "\n",
    "# Probability scores for test set\n",
    "y_score = logreg.fit(X_train, y_train).decision_function(X_test)\n",
    "\n",
    "# False positive Rate and true positive rate\n",
    "fpr_roc, tpr_roc, thresholds = roc_curve(y_test, y_score)\n",
    "\n",
    "plot_roc_curve(fpr = fpr_roc, tpr = tpr_roc)"
   ]
  },
  {
   "cell_type": "code",
   "execution_count": null,
   "metadata": {
    "pycharm": {
     "name": "#%%\n"
    }
   },
   "outputs": [],
   "source": [
    "y_pred = logreg.predict(X_test)\n",
    "# Accuracy before model parameter optimisation\n",
    "cnf_matrix = confusion_matrix(y_pred, y_test)\n",
    "plot_confusion_matrix(cnf_matrix, classes=[0,1], normalize=True)"
   ]
  },
  {
   "cell_type": "markdown",
   "metadata": {},
   "source": [
    "<div class=\"alert alert-block alert-info\">\n",
    "<b>Build Logistic Regression - Release 1</b>\n",
    "</div>\n"
   ]
  },
  {
   "cell_type": "markdown",
   "metadata": {},
   "source": [
    "Scale and transform variables"
   ]
  },
  {
   "cell_type": "code",
   "execution_count": null,
   "metadata": {
    "pycharm": {
     "name": "#%%\n"
    }
   },
   "outputs": [],
   "source": [
    "# Transform thallium_scint variable\n",
    "trans_thal = {3:0, 7:1, 6:2}\n",
    "df_fin_nn = df_fin.replace({\"thallium_scint\": trans_thal})\n",
    "\n",
    "# Re-extract transformed X features\n",
    "X = df_fin_nn.loc[:, ('age', 'sex', 'chest_pain_type', 'rest_blood_press', 'cholesterol', 'fasting_blood_sugar', 'rest_ecg', 'max_heart_rate', 'exer_ind_angina', 'st_depression', 'st_slope',\n",
    "                   'num_major_vessels', 'thallium_scint')]\n",
    "\n",
    "# Rebuild training and testing sets\n",
    "X_train, X_test, y_train, y_test = train_test_split(X, y, random_state=0)\n",
    "\n",
    "# Scale data\n",
    "scaler = StandardScaler()\n",
    "\n",
    "# Fit on training data set\n",
    "scaler.fit(X_train)\n",
    "X_train = scaler.transform(X_train)\n",
    "\n",
    "# Apply to test data\n",
    "X_test = scaler.transform(X_test)\n"
   ]
  },
  {
   "cell_type": "markdown",
   "metadata": {},
   "source": [
    "We now build a logistic regression model with data scaled and transformed according to Exploratory Data Analysis\n",
    "results."
   ]
  },
  {
   "cell_type": "code",
   "execution_count": null,
   "metadata": {
    "pycharm": {
     "name": "#%%\n"
    }
   },
   "outputs": [],
   "source": [
    "# Initial model\n",
    "logreg = LogisticRegression(fit_intercept = False)\n",
    "\n",
    "# Probability scores for test set\n",
    "y_score = logreg.fit(X_train, y_train).decision_function(X_test)\n",
    "\n",
    "# False positive Rate and true positive rate\n",
    "fpr_roc, tpr_roc, thresholds = roc_curve(y_test, y_score)\n",
    "\n",
    "plot_roc_curve(fpr = fpr_roc, tpr = tpr_roc)"
   ]
  },
  {
   "cell_type": "code",
   "execution_count": null,
   "metadata": {
    "pycharm": {
     "name": "#%%\n"
    }
   },
   "outputs": [],
   "source": [
    "y_pred = logreg.predict(X_test)\n",
    "# Accuracy before model parameter optimisation\n",
    "cnf_matrix = confusion_matrix(y_pred, y_test)\n",
    "plot_confusion_matrix(cnf_matrix, classes=[0,1], normalize=True)"
   ]
  },
  {
   "cell_type": "markdown",
   "metadata": {
    "pycharm": {
     "name": "#%% md\n"
    }
   },
   "source": [
    "We observe a modest improvement in accuracy for the model with the data minimally transformed and scaled.\n",
    "Model performance in terms of convergence has however however improved as previously the number of iterations before\n",
    "convergence had to be increased to over 1000,000 which is no longer the case after the data has been scaled.\n"
   ]
  },
  {
   "cell_type": "markdown",
   "metadata": {},
   "source": [
    "<div class=\"alert alert-block alert-info\">\n",
    "<b>Build Logistic Regression - Release 2</b>\n",
    "</div>"
   ]
  },
  {
   "cell_type": "markdown",
   "metadata": {},
   "source": [
    "We now perform feature selection in order to ascertain whether a smaller parsimonious model could be built with fewer\n",
    "variables. As per the article by (Detrano et al., 1989) this could be useful from a practical perspective as not all\n",
    "healthcare settings have all the variables to their disposal which necessitates the deployment of several complex\n",
    "predictive models which is not practical from an operational perspective.\n",
    "\n",
    "We will first perform correlation and regression tests on the data. These tests are best performed by considering\n",
    "continuous and categoric variables separately due to the intrinsic difference in regression coefficient values\n",
    "for these variables. We will then perform a few numeric methods on the full dataset and compare results.\n",
    "\n",
    "We start by considering the continuous variables."
   ]
  },
  {
   "cell_type": "code",
   "execution_count": null,
   "metadata": {
    "pycharm": {
     "name": "#%%\n"
    }
   },
   "outputs": [],
   "source": [
    "# Pearson correlation plot.\n",
    "correlations = df_fin_con.corr()\n",
    "# Plot correlation matrix\n",
    "#sns.set(font_scale=1);\n",
    "fig = plt.figure(figsize=(10, 10))\n",
    "heatmap = sns.heatmap(correlations, annot=True, linewidths = 0, vmin=-.5, cmap='pink_r')"
   ]
  },
  {
   "cell_type": "markdown",
   "metadata": {},
   "source": [
    "We see that there is a very strong inverse correlation between maximum heart rate and age. This makes sense as one's\n",
    "maximum heart typically decreases with age. We also see that there is a strong positive correlation between maximum\n",
    "heart rate and both cholesterol and resting blood pressure. This too makes sense as high blood pressure and cholesterol\n",
    "are typically indications poor health which would result in lower maximum heart rate.\n",
    "Another observation of interest is the strong correlation between cholesterol and the depression induced by exercise in\n",
    "the ECG during exercise. These variables could make strong combined predictors for a next iteration of the model.\n",
    "For now we will continue with the variables as is and focus on feature selection."
   ]
  },
  {
   "cell_type": "markdown",
   "metadata": {
    "pycharm": {
     "name": "#%% md\n"
    }
   },
   "source": [
    "The first method we use is to compare the relative importance of logistic regression coefficient values for all our\n",
    "continuous variables. Scikit-learn does not implement feature importance measures for logistic regression. We\n",
    "therefore make use of the statsmodel libraries' implementation."
   ]
  },
  {
   "cell_type": "code",
   "execution_count": null,
   "metadata": {
    "pycharm": {
     "name": "#%%\n"
    }
   },
   "outputs": [],
   "source": [
    "# Extract continuous and categorical variables for analysis.\n",
    "X_con = df_fin_con.copy()\n",
    "X_cat = df_fin_cat.loc[:,('sex', 'chest_pain_type', 'fasting_blood_sugar', 'rest_ecg', 'exer_ind_angina', 'st_slope', 'num_major_vessels', 'thallium_scint')]\n",
    "\n",
    "X_train_con, X_test_con, y_train_con, y_test_con = train_test_split(X_con, y, random_state=0)\n",
    "X_train_cat, X_test_cat, y_train_cat, y_test_cat = train_test_split(X_cat, y, random_state=0)\n",
    "\n",
    "log_reg = sm.Logit(y_train_con, X_train_con)\n",
    "log_result = log_reg.fit()\n",
    "\n",
    "print(log_result.summary2())\n",
    "features_con = np.array(names_con)\n",
    "plot_feature_importance_log(fit = log_result, features = features_con)"
   ]
  },
  {
   "cell_type": "markdown",
   "metadata": {
    "pycharm": {
     "name": "#%% md\n"
    }
   },
   "source": [
    "From this analysis it can be seen that the only variables of significance are max_heart_rate and st_depression. The remainder of the\n",
    "variables will be rejected based on their coefficient sizes.\n",
    "I would have preferred a univariate comparison between all the features, but this is unfortunately quite cumbersome\n",
    "to implement in a short space of time given the lack of support in scikit-learn.\n",
    "Next we will however make use of scikit-learn's native feature extraction methods. The uni-variate Anova test\n",
    "on continuous variables as implemented in SelectKBest function 'f_classif' will be used. Let's see what the results\n",
    "are."
   ]
  },
  {
   "cell_type": "code",
   "execution_count": null,
   "metadata": {
    "pycharm": {
     "name": "#%%\n"
    }
   },
   "outputs": [],
   "source": [
    "# Feature extraction set to retain all - we want to see scores for all variables.\n",
    "test = SelectKBest(score_func=f_classif, k=5)\n",
    "fit_kbest = test.fit(X_train_con, y_train_con)\n",
    "features_kbest = np.array(X_con.columns)\n",
    "plot_feature_importance(fit = fit_kbest, features = features_kbest)"
   ]
  },
  {
   "cell_type": "markdown",
   "metadata": {},
   "source": [
    "We will now consider the categorical variables. Again the SelectKBest method will be used, but this time the\n",
    "Chi-Squared function 'chi2' will be used. Let's see what the results are."
   ]
  },
  {
   "cell_type": "code",
   "execution_count": null,
   "metadata": {
    "pycharm": {
     "name": "#%%\n"
    }
   },
   "outputs": [],
   "source": [
    "test_cat = SelectKBest(score_func=chi2, k='all')\n",
    "fit_kbest_cat = test_cat.fit(X_train_cat, y_train_cat)\n",
    "features_kbest_cat = np.array(X_cat.columns)\n",
    "plot_feature_importance(fit = fit_kbest_cat, features = features_kbest_cat)"
   ]
  },
  {
   "cell_type": "markdown",
   "metadata": {
    "pycharm": {
     "name": "#%% md\n"
    }
   },
   "source": [
    "num_major_vessels, thal_scint and exer_ind_angina are all extremely strong predictors. chest_pain_type, st_slope and\n",
    "sex also contribute to the overall classification. From this analysis the only non-significant variables are\n",
    "rest_ecg and fasting_blood_sugar.\n",
    "\n",
    "We have now analysed continuous at categorical data separately from a statistical perspective.\n",
    "Before we make the final decision on what variables to drop, we will now consider an ML technique for deriving feature\n",
    "importance i.e. Decision Trees and Random Forests. Unlike the case of regression, we can analyse and draw conclusions\n",
    "on continuous and categorical data together."
   ]
  },
  {
   "cell_type": "code",
   "execution_count": null,
   "metadata": {
    "pycharm": {
     "name": "#%%\n"
    }
   },
   "outputs": [],
   "source": [
    "# Fit a Decision Tree to data - perform cross validation to obtain optimum value for hyperparameter used for pruning.\n",
    "samples = [sample for sample in range(1,30)]\n",
    "validation_scores = []\n",
    "for sample in samples:\n",
    "    classifier1 = DecisionTreeClassifier(random_state=1, min_samples_leaf=sample)\n",
    "    score = cross_val_score(estimator=classifier1, X=X_train, y=y_train, cv=5)\n",
    "    validation_scores.append(score.mean())\n",
    "\n",
    "# Obtain the minimum leaf samples with the highest validation score\n",
    "samples_optimum = samples[validation_scores.index(max(validation_scores))]\n",
    "\n",
    "# Create final classifier\n",
    "classifier2 = DecisionTreeClassifier(random_state=0, min_samples_leaf=samples_optimum)\n",
    "classifier2 = classifier2.fit(X_train, y_train)\n",
    "\n",
    "# Probability scores for test set\n",
    "y_pred = classifier2.predict(X_test)\n",
    "\n",
    "# False positive Rate and true positive rate\n",
    "fpr_roc, tpr_roc, thresholds = roc_curve(y_test, y_pred)\n",
    "plot_roc_curve(fpr = fpr_roc, tpr = tpr_roc)"
   ]
  },
  {
   "cell_type": "code",
   "execution_count": null,
   "metadata": {
    "pycharm": {
     "name": "#%%\n"
    }
   },
   "outputs": [],
   "source": [
    "cnf_matrix = confusion_matrix(y_pred, y_test)\n",
    "plot_confusion_matrix(cnf_matrix, classes=[0,1], normalize=True)"
   ]
  },
  {
   "cell_type": "code",
   "execution_count": null,
   "metadata": {
    "pycharm": {
     "name": "#%%\n"
    }
   },
   "outputs": [],
   "source": [
    "importances = np.array(classifier2.feature_importances_)\n",
    "feature_list = np.array(X.columns)\n",
    "plot_feature_importance_dec(fit = importances, features = feature_list)"
   ]
  },
  {
   "cell_type": "code",
   "execution_count": null,
   "metadata": {
    "pycharm": {
     "name": "#%%\n"
    }
   },
   "outputs": [],
   "source": [
    "# Show the first few levels of the tree\n",
    "_ = export_graphviz(classifier2, out_file='tree.dot',\n",
    "                feature_names = X.columns,\n",
    "                class_names = ['CAD', 'No CAD'],\n",
    "                rounded = True, proportion = True,\n",
    "                label='root',\n",
    "                precision = 2, filled = True);"
   ]
  },
  {
   "cell_type": "code",
   "execution_count": null,
   "metadata": {
    "pycharm": {
     "name": "#%%\n"
    }
   },
   "outputs": [],
   "source": [
    "_ = call(['dot', '-Tpng', 'tree.dot', '-o', 'tree.png', '-Gdpi=600'])\n",
    "Image(filename = 'tree.png')"
   ]
  },
  {
   "cell_type": "markdown",
   "metadata": {},
   "source": [
    "The model has weaker accuracy, and therefore the feature importance results are not very convincing.\n",
    "We will next look at random forests to see if we can improve on the single tree's accuracy."
   ]
  },
  {
   "cell_type": "code",
   "execution_count": null,
   "metadata": {
    "pycharm": {
     "name": "#%%\n"
    }
   },
   "outputs": [],
   "source": [
    "rand_forest = RandomForestClassifier(max_depth=5)\n",
    "rand_forest.fit(X_train, y_train)\n",
    "\n",
    "# Probability scores for test set\n",
    "y_pred = rand_forest.predict(X_test)\n",
    "\n",
    "# False positive Rate and true positive rate\n",
    "fpr_roc, tpr_roc, thresholds = roc_curve(y_test, y_pred)\n",
    "plot_roc_curve(fpr = fpr_roc, tpr = tpr_roc)"
   ]
  },
  {
   "cell_type": "code",
   "execution_count": null,
   "metadata": {
    "pycharm": {
     "name": "#%%\n"
    }
   },
   "outputs": [],
   "source": [
    "cnf_matrix = confusion_matrix(y_pred, y_test)\n",
    "plot_confusion_matrix(cnf_matrix, classes=[0,1], normalize=True)"
   ]
  },
  {
   "cell_type": "code",
   "execution_count": null,
   "metadata": {
    "pycharm": {
     "name": "#%%\n"
    }
   },
   "outputs": [],
   "source": [
    "importances = np.array(rand_forest.feature_importances_)\n",
    "feature_list = np.array(X.columns)\n",
    "plot_feature_importance_dec(fit = importances, features = feature_list)"
   ]
  },
  {
   "cell_type": "code",
   "execution_count": null,
   "metadata": {
    "pycharm": {
     "name": "#%%\n"
    }
   },
   "outputs": [],
   "source": [
    "estimator = rand_forest.estimators_[1]\n",
    "\n",
    "# Show the first few levels of the tree\n",
    "_ = export_graphviz(estimator, out_file='tree.dot',\n",
    "                feature_names = X.columns,\n",
    "                class_names = ['CAD', 'No CAD'],\n",
    "                rounded = True, proportion = True,\n",
    "                label='root',\n",
    "                precision = 2, filled = True);"
   ]
  },
  {
   "cell_type": "code",
   "execution_count": null,
   "metadata": {
    "pycharm": {
     "name": "#%%\n"
    }
   },
   "outputs": [],
   "source": [
    "_ = call(['dot', '-Tpng', 'tree.dot', '-o', 'tree.png', '-Gdpi=600'])\n",
    "Image(filename = 'tree.png')"
   ]
  },
  {
   "cell_type": "markdown",
   "metadata": {
    "pycharm": {
     "name": "#%% md\n"
    }
   },
   "source": [
    "We now build our final Logistic Regression model with the variables selected."
   ]
  },
  {
   "cell_type": "code",
   "execution_count": null,
   "metadata": {
    "pycharm": {
     "name": "#%%\n"
    }
   },
   "outputs": [],
   "source": [
    "# Extract continuous and categorical variables for analysis.\n",
    "X_fin_cat = df_fin_cat.loc[:,('sex', 'chest_pain_type', 'exer_ind_angina', 'st_slope', 'num_major_vessels', 'thallium_scint')]\n",
    "X_fin_con = df_fin_con.loc[:,('max_heart_rate', 'st_depression')]\n",
    "X_final = pd.concat([X_fin_cat, X_fin_con], axis=1)\n",
    "\n",
    "X_train_fin, X_test_fin, y_train_fin, y_test_fin = train_test_split(X_final, y, random_state=0)\n",
    "\n",
    "# Scale data\n",
    "scaler = StandardScaler()\n",
    "\n",
    "# Fit on training data set\n",
    "scaler.fit(X_train_fin)\n",
    "X_train_fin = scaler.transform(X_train_fin)\n",
    "\n",
    "# Apply to test data\n",
    "X_test_fin = scaler.transform(X_test_fin)\n",
    "\n",
    "# Final model\n",
    "logfin = LogisticRegression(fit_intercept = False)\n",
    "\n",
    "# Probability scores for test set\n",
    "y_score_fin = logfin.fit(X_train_fin, y_train_fin).decision_function(X_test_fin)\n",
    "\n",
    "# False positive Rate and true positive rate\n",
    "fpr_roc, tpr_roc, thresholds = roc_curve(y_test_fin, y_score_fin)\n",
    "\n",
    "plot_roc_curve(fpr = fpr_roc, tpr = tpr_roc)"
   ]
  },
  {
   "cell_type": "code",
   "execution_count": null,
   "metadata": {
    "pycharm": {
     "name": "#%%\n"
    }
   },
   "outputs": [],
   "source": [
    "y_pred_fin = logfin.predict(X_test_fin)\n",
    "# Accuracy before model parameter optimisation\n",
    "cnf_matrix = confusion_matrix(y_pred_fin, y_test_fin)\n",
    "plot_confusion_matrix(cnf_matrix, classes=[0,1], normalize=True)"
   ]
  },
  {
   "cell_type": "markdown",
   "metadata": {
    "pycharm": {
     "name": "#%% md\n"
    }
   },
   "source": [
    "The accuracy results indicate that even though 5 variables were dropped, the model accuracy did not reduce by\n",
    "a significant amount. We can therefore confidently deploy this model with the knowledge that it is both robust and\n",
    "accurate.\n"
   ]
  },
  {
   "cell_type": "markdown",
   "metadata": {},
   "source": [
    "<div class=\"alert alert-block alert-info\">\n",
    "<b>Build Model 2 - Multi-Layer Perceptron</b>\n",
    "</div>"
   ]
  },
  {
   "cell_type": "markdown",
   "metadata": {},
   "source": [
    "We can now build a Multi Layer Perceptron to compare with the Logistic Regression."
   ]
  },
  {
   "cell_type": "markdown",
   "metadata": {},
   "source": [
    "MSE before model optimisation"
   ]
  },
  {
   "cell_type": "code",
   "execution_count": null,
   "metadata": {
    "pycharm": {
     "name": "#%%\n"
    }
   },
   "outputs": [],
   "source": [
    "# Fit and check MSE before regularisation\n",
    "reg = MLPClassifier(max_iter=50000, solver=\"adam\", activation=\"tanh\", hidden_layer_sizes=(5, 5), random_state=1)\n",
    "reg.fit(X_train_fin, y_train_fin)\n",
    "\n",
    "# Predict\n",
    "y_pred_fin = reg.predict(X_test_fin)\n",
    "\n",
    "# Accuracy before model parameter optimisation\n",
    "accuracy_score(y_pred_fin, y_test_fin)"
   ]
  },
  {
   "cell_type": "markdown",
   "metadata": {},
   "source": [
    "We now optimise the NN architecture."
   ]
  },
  {
   "cell_type": "code",
   "execution_count": null,
   "metadata": {
    "pycharm": {
     "name": "#%%\n"
    }
   },
   "outputs": [],
   "source": [
    "# Optimise numbers of nodes on both layers\n",
    "validation_scores = {}\n",
    "print(\"Nodes |Validation\")\n",
    "print(\"      | score\")\n",
    "\n",
    "for hidden_layer_size in [(i,j) for i in range(3,6) for j in range(3,6)]:\n",
    "\n",
    "    reg = MLPClassifier(max_iter=1000000, hidden_layer_sizes=hidden_layer_size, random_state=1)\n",
    "\n",
    "    score = cross_val_score(estimator=reg, X=X_train_fin, y=y_train_fin, cv=2)\n",
    "    validation_scores[hidden_layer_size] = score.mean()\n",
    "    print(hidden_layer_size, \": %0.5f\" % validation_scores[hidden_layer_size])"
   ]
  },
  {
   "cell_type": "code",
   "execution_count": null,
   "metadata": {
    "pycharm": {
     "name": "#%%\n"
    }
   },
   "outputs": [],
   "source": [
    "# Check scores\n",
    "print(\"The highest validation score is: %0.4f\" % max(validation_scores.values()))\n",
    "optimal_hidden_layer_size = [name for name, score in validation_scores.items()\n",
    "                              if score==max(validation_scores.values())][0]\n",
    "print(\"This corresponds to nodes\", optimal_hidden_layer_size )"
   ]
  },
  {
   "cell_type": "markdown",
   "metadata": {
    "pycharm": {
     "name": "#%% md\n"
    }
   },
   "source": [
    "Now we optimise neural network regularisation parameter"
   ]
  },
  {
   "cell_type": "code",
   "execution_count": null,
   "metadata": {
    "pycharm": {
     "name": "#%%\n"
    }
   },
   "outputs": [],
   "source": [
    "# Select range over which to find regularisation parameter - exponential used for even distribution of values\n",
    "reg_par = [np.e**n for n in np.arange(-2,4,0.5)]\n",
    "\n",
    "validation_scores = {}\n",
    "print(\" alpha  |  Accuracy\")\n",
    "for param in reg_par:\n",
    "    reg = MLPClassifier(max_iter=1000000, solver=\"adam\", activation=\"tanh\", hidden_layer_sizes=optimal_hidden_layer_size, alpha=param,\n",
    "                        random_state=1)\n",
    "    score = cross_val_score(estimator=reg, X=X_train_fin, y=y_train_fin, cv=2, scoring=\"accuracy\")\n",
    "    validation_scores[param] = score.mean()\n",
    "    print(\"%0.5f |  %s\" % (param, score.mean()))\n",
    "\n",
    "# Plot the accuracy function against regularisation parameter\n",
    "plt.plot([np.log(i) for i in validation_scores.keys()], list(validation_scores.values()));\n",
    "plt.xlabel(\"Ln of alpha\");\n",
    "plt.ylabel(\"Accuracy\");"
   ]
  },
  {
   "cell_type": "markdown",
   "metadata": {},
   "source": [
    "The highest cross-validation accuracy score and hence the value to use for the `alpha` parameter is as follows."
   ]
  },
  {
   "cell_type": "code",
   "execution_count": null,
   "metadata": {
    "pycharm": {
     "name": "#%%\n"
    }
   },
   "outputs": [],
   "source": [
    "max_score = ([np.log(name) for name, score in validation_scores.items() if score==max(validation_scores.values())][0])\n",
    "\n",
    "# Find lowest value.\n",
    "print(\"The highest accuracy score is: %s\" % (max(validation_scores.values())))\n",
    "print(\"This corresponds to regularisation parameter e**%s\" % max_score)"
   ]
  },
  {
   "cell_type": "markdown",
   "metadata": {},
   "source": [
    "MSE after regularisation"
   ]
  },
  {
   "cell_type": "code",
   "execution_count": null,
   "metadata": {
    "pycharm": {
     "name": "#%%\n"
    }
   },
   "outputs": [],
   "source": [
    "# Fit data with the best parameter\n",
    "reg = MLPClassifier(max_iter=1000000, solver=\"adam\", activation=\"tanh\", hidden_layer_sizes=optimal_hidden_layer_size,\n",
    "                    alpha=np.e**(2), random_state=1)\n",
    "\n",
    "reg.fit(X_train_fin, y_train_fin)\n",
    "\n",
    "# Predict\n",
    "y_pred = reg.predict(X_test_fin)\n",
    "\n",
    "# Accuracy after model parameter optimisation\n",
    "accuracy_score(y_pred_fin, y_test_fin)"
   ]
  },
  {
   "cell_type": "markdown",
   "metadata": {},
   "source": [
    "<div class=\"alert alert-block alert-info\">\n",
    "<b>Analysis of results</b>\n",
    "</div>"
   ]
  },
  {
   "cell_type": "markdown",
   "metadata": {
    "pycharm": {
     "name": "#%% md\n"
    }
   },
   "source": [
    "Plot response curves"
   ]
  },
  {
   "cell_type": "code",
   "execution_count": null,
   "metadata": {
    "pycharm": {
     "name": "#%%\n"
    }
   },
   "outputs": [],
   "source": [
    "# Create X_design_vec, which contains the median of each respective column\n",
    "X_design = X_final.copy()\n",
    "X_design_vec = pd.DataFrame(X_design.median()).transpose()\n",
    "X_design_vec.head()"
   ]
  },
  {
   "cell_type": "code",
   "execution_count": null,
   "metadata": {
    "pycharm": {
     "name": "#%%\n"
    }
   },
   "outputs": [],
   "source": [
    "names_num = ('sex', 'chest_pain_type', 'max_heart_rate', 'exer_ind_angina', 'st_depression', 'st_slope', 'num_major_vessels', 'thallium_scint')\n",
    "\n",
    "for variable in names_num:\n",
    "    # Set up a sequence for response variable to plot\n",
    "    min_res = min(X.loc[:,variable])\n",
    "    max_res = max(X.loc[:,variable])\n",
    "    seq = np.linspace(start=min_res,stop=max_res,num=50)\n",
    "\n",
    "    # Set up a list of moving resultants to plot\n",
    "    to_predict = []\n",
    "    for result in seq:\n",
    "        X_design_vec.loc[0,variable] = result\n",
    "        to_predict.append(X_design_vec.copy())\n",
    "\n",
    "    # Convert back to dataframe\n",
    "    to_predict = pd.concat(to_predict)\n",
    "\n",
    "    # Scale and predict\n",
    "    to_predict = scaler.transform(to_predict)\n",
    "    predictions = reg.predict_proba(to_predict)\n",
    "\n",
    "    # Plot\n",
    "    _ = plt.plot(seq,predictions[:,1])\n",
    "    _ = plt.xlabel(variable)\n",
    "    _ = plt.ylabel(\"ca_disease\")\n",
    "    _ = plt.title(\"ca_disease vs \" + variable)\n",
    "    plt.show();"
   ]
  },
  {
   "cell_type": "markdown",
   "metadata": {
    "pycharm": {
     "name": "#%% md\n"
    }
   },
   "source": [
    "Our model is accurate enough to capture the directly proportionate relationship between several response variables\n",
    "(in order of strength of association, based on response curve output):\n",
    "\n",
    "- thallium_scint\n",
    "- num_major_vessels\n",
    "- st_slope\n",
    "- st_depression\n",
    "- exer_ind_angina\n",
    "- chest_pain_type\n",
    "- sex\n",
    "\n",
    "and the inversely proportional relationship between:\n",
    "\n",
    "- max_heart_rate\n",
    "\n",
    "and the outcome of confirmed Coronary Artery Disease. This is a positive outcome, as it means the model as applied\n",
    "to the validation dataset managed to capture the underlying signals in the data. We can therefore conclude that the\n",
    "model generalises well and that its accuracy is sufficiently high for this model to be used based on the features\n",
    "captured.\n",
    "\n",
    "This makes sense if one takes into account that the first two variables:\n",
    "\n",
    "- thallium_scint: Arteries found to be: 1. Normal 2. Reversible defect and 3. Fixed defect\n",
    "- num_major_vessels: Number of major vessels (0-3) coloured by fluoroscopy\n",
    "\n",
    "are by nature close to the definition of Coronary Artery Disease itself."
   ]
  },
  {
   "cell_type": "markdown",
   "metadata": {},
   "source": [
    "Accuracy analysis"
   ]
  },
  {
   "cell_type": "code",
   "execution_count": null,
   "metadata": {
    "pycharm": {
     "name": "#%%\n"
    }
   },
   "outputs": [],
   "source": [
    "# False positive Rate and true positive rate\n",
    "fpr_roc, tpr_roc, thresholds = roc_curve(y_test, y_pred)\n",
    "plot_roc_curve(fpr = fpr_roc, tpr = tpr_roc)"
   ]
  },
  {
   "cell_type": "code",
   "execution_count": null,
   "metadata": {
    "pycharm": {
     "name": "#%%\n"
    }
   },
   "outputs": [],
   "source": [
    "cnf_matrix = confusion_matrix(y_pred, y_test)\n",
    "plot_confusion_matrix(cnf_matrix, classes=[0,1], normalize=True)"
   ]
  },
  {
   "cell_type": "markdown",
   "metadata": {},
   "source": [
    "<div class=\"alert alert-block alert-info\">\n",
    "<b>Conclusion</b>\n",
    "</div>"
   ]
  },
  {
   "cell_type": "markdown",
   "metadata": {},
   "source": [
    "Given the similar levels of accuracy that both the Logistic and MLP models attained it will be up to clinical decision\n",
    "makers to decide on the utility of these approaches. Given the confidence in the Gold Standard i.e. Angiography and the\n",
    "consequences of incorrect diagnosis, it is unlikely that a test resulting in a sensitivity of 90% or less will be\n",
    "considered as a replacement.\n",
    "An understanding of the factors contributing to a positive Angiography test would however assist clinicians in deciding\n",
    "when an Angiography might be necessary and what the likely outcome would be. This could assist in early intervention,\n",
    "workup and planning.\n",
    "This analysis identified the 8 most important features to consider which are: thallium_scint, num_major_vessels,\n",
    "st_slope, st_depression, max_heart_rate, exer_ind_angina, chest_pain_type and sex."
   ]
  }
 ],
 "metadata": {
  "kernelspec": {
   "display_name": "Python 3",
   "language": "python",
   "name": "python3"
  },
  "language_info": {
   "codemirror_mode": {
    "name": "ipython",
    "version": 3
   },
   "file_extension": ".py",
   "mimetype": "text/x-python",
   "name": "python",
   "nbconvert_exporter": "python",
   "pygments_lexer": "ipython3",
   "version": "3.8.1"
  }
 },
 "nbformat": 4,
 "nbformat_minor": 1
}